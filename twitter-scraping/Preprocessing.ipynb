{
 "cells": [
  {
   "cell_type": "code",
   "execution_count": 83,
   "metadata": {
    "id": "NiWBbiJbYNIM"
   },
   "outputs": [],
   "source": [
    "# pip install autocorrect"
   ]
  },
  {
   "cell_type": "code",
   "execution_count": 84,
   "metadata": {},
   "outputs": [],
   "source": [
    "# pip install joblib"
   ]
  },
  {
   "cell_type": "code",
   "execution_count": 1,
   "metadata": {
    "id": "d85uIsEVYNIM"
   },
   "outputs": [
    {
     "name": "stderr",
     "output_type": "stream",
     "text": [
      "[nltk_data] Downloading package stopwords to C:\\Users\\Krithika\n",
      "[nltk_data]     JK\\AppData\\Roaming\\nltk_data...\n",
      "[nltk_data]   Package stopwords is already up-to-date!\n",
      "[nltk_data] Downloading package punkt to C:\\Users\\Krithika\n",
      "[nltk_data]     JK\\AppData\\Roaming\\nltk_data...\n",
      "[nltk_data]   Package punkt is already up-to-date!\n"
     ]
    }
   ],
   "source": [
    "import pandas as pd\n",
    "import numpy as np\n",
    "import seaborn as sb\n",
    "from matplotlib import pyplot as plt\n",
    "from datetime import datetime\n",
    "import string\n",
    "\n",
    "from transformers import AutoTokenizer, AutoModelForSequenceClassification\n",
    "from nltk.tokenize import TweetTokenizer\n",
    "from scipy.special import softmax\n",
    "\n",
    "import nltk\n",
    "\n",
    "import re\n",
    "import contractions\n",
    "import unidecode\n",
    "from autocorrect import Speller\n",
    "\n",
    "from nltk.corpus import stopwords\n",
    "nltk.download('stopwords')\n",
    "nltk.download('punkt')\n",
    "\n",
    "import torch\n",
    "import os"
   ]
  },
  {
   "cell_type": "code",
   "execution_count": 86,
   "metadata": {
    "colab": {
     "base_uri": "https://localhost:8080/"
    },
    "id": "KrDmLMziYNIN",
    "outputId": "7ad484b2-864b-48e2-832f-5035493e2be1"
   },
   "outputs": [
    {
     "name": "stderr",
     "output_type": "stream",
     "text": [
      "[nltk_data] Downloading package wordnet to C:\\Users\\Krithika\n",
      "[nltk_data]     JK\\AppData\\Roaming\\nltk_data...\n",
      "[nltk_data]   Package wordnet is already up-to-date!\n"
     ]
    },
    {
     "data": {
      "text/plain": [
       "True"
      ]
     },
     "execution_count": 86,
     "metadata": {},
     "output_type": "execute_result"
    }
   ],
   "source": [
    "nltk.download('wordnet')"
   ]
  },
  {
   "cell_type": "code",
   "execution_count": 87,
   "metadata": {
    "colab": {
     "base_uri": "https://localhost:8080/"
    },
    "id": "2nSplE31YNIO",
    "outputId": "b55f25ff-6f6f-4da5-dadd-d0c516268cd7"
   },
   "outputs": [
    {
     "name": "stderr",
     "output_type": "stream",
     "text": [
      "C:\\Users\\Krithika JK\\AppData\\Local\\Temp\\ipykernel_19652\\908094907.py:1: DtypeWarning: Columns (6,9) have mixed types. Specify dtype option on import or set low_memory=False.\n",
      "  data = pd.read_csv('replyTweets.csv')\n"
     ]
    }
   ],
   "source": [
    "data = pd.read_csv('replyTweets.csv')"
   ]
  },
  {
   "cell_type": "markdown",
   "metadata": {
    "id": "NL8kMtAVYNIO"
   },
   "source": [
    "# EDA"
   ]
  },
  {
   "cell_type": "code",
   "execution_count": 88,
   "metadata": {
    "colab": {
     "base_uri": "https://localhost:8080/"
    },
    "id": "XMAIf1zTYNIP",
    "outputId": "fb71bae6-9289-4011-e9ae-8094974650a4"
   },
   "outputs": [
    {
     "name": "stdout",
     "output_type": "stream",
     "text": [
      "<class 'pandas.core.frame.DataFrame'>\n",
      "RangeIndex: 305783 entries, 0 to 305782\n",
      "Data columns (total 17 columns):\n",
      " #   Column               Non-Null Count   Dtype  \n",
      "---  ------               --------------   -----  \n",
      " 0   id                   305779 non-null  float64\n",
      " 1   createdAt            305780 non-null  object \n",
      " 2   fullName             305746 non-null  object \n",
      " 3   userName             305780 non-null  object \n",
      " 4   profileImage         305780 non-null  object \n",
      " 5   fullText             305780 non-null  object \n",
      " 6   replyTo              288845 non-null  object \n",
      " 7   lang                 305780 non-null  object \n",
      " 8   quoteCount           305780 non-null  float64\n",
      " 9   retweetCount         305780 non-null  object \n",
      " 10  replyCount           305780 non-null  float64\n",
      " 11  likeCount            305780 non-null  float64\n",
      " 12  viewCount            120630 non-null  float64\n",
      " 13  sentimentLabel1      1996 non-null    float64\n",
      " 14  sentimentLabel2      1250 non-null    float64\n",
      " 15  sentimentLabel3      1000 non-null    float64\n",
      " 16  sentimentLabelFinal  1003 non-null    float64\n",
      "dtypes: float64(9), object(8)\n",
      "memory usage: 39.7+ MB\n"
     ]
    }
   ],
   "source": [
    "data.info()"
   ]
  },
  {
   "cell_type": "code",
   "execution_count": 89,
   "metadata": {
    "colab": {
     "base_uri": "https://localhost:8080/",
     "height": 424
    },
    "id": "2Ebz_9dEYNIQ",
    "outputId": "c5e0afe6-6d6c-4a6c-bf9f-c644299ba694"
   },
   "outputs": [
    {
     "data": {
      "text/html": [
       "<div>\n",
       "<style scoped>\n",
       "    .dataframe tbody tr th:only-of-type {\n",
       "        vertical-align: middle;\n",
       "    }\n",
       "\n",
       "    .dataframe tbody tr th {\n",
       "        vertical-align: top;\n",
       "    }\n",
       "\n",
       "    .dataframe thead th {\n",
       "        text-align: right;\n",
       "    }\n",
       "</style>\n",
       "<table border=\"1\" class=\"dataframe\">\n",
       "  <thead>\n",
       "    <tr style=\"text-align: right;\">\n",
       "      <th></th>\n",
       "      <th>id</th>\n",
       "      <th>createdAt</th>\n",
       "      <th>fullName</th>\n",
       "      <th>userName</th>\n",
       "      <th>profileImage</th>\n",
       "      <th>fullText</th>\n",
       "      <th>replyTo</th>\n",
       "      <th>lang</th>\n",
       "      <th>quoteCount</th>\n",
       "      <th>retweetCount</th>\n",
       "      <th>replyCount</th>\n",
       "      <th>likeCount</th>\n",
       "      <th>viewCount</th>\n",
       "      <th>sentimentLabel1</th>\n",
       "      <th>sentimentLabel2</th>\n",
       "      <th>sentimentLabel3</th>\n",
       "      <th>sentimentLabelFinal</th>\n",
       "    </tr>\n",
       "  </thead>\n",
       "  <tbody>\n",
       "    <tr>\n",
       "      <th>0</th>\n",
       "      <td>1.773239e+18</td>\n",
       "      <td>2024-03-28 06:43:19+00:00</td>\n",
       "      <td>Stella Patchouli</td>\n",
       "      <td>StellaPatch</td>\n",
       "      <td>https://pbs.twimg.com/profile_images/175397939...</td>\n",
       "      <td>@nytimes The curse on Musk iis working!\\r\\n🔥☔🐱🐱🤹💥</td>\n",
       "      <td>1772931578835939584.0</td>\n",
       "      <td>en</td>\n",
       "      <td>0.0</td>\n",
       "      <td>0</td>\n",
       "      <td>0.0</td>\n",
       "      <td>0.0</td>\n",
       "      <td>9.0</td>\n",
       "      <td>0.0</td>\n",
       "      <td>1.0</td>\n",
       "      <td>NaN</td>\n",
       "      <td>NaN</td>\n",
       "    </tr>\n",
       "    <tr>\n",
       "      <th>1</th>\n",
       "      <td>1.773174e+18</td>\n",
       "      <td>2024-03-28 02:21:41+00:00</td>\n",
       "      <td>Ceti Alpha V</td>\n",
       "      <td>RichGreenwood5</td>\n",
       "      <td>https://pbs.twimg.com/profile_images/122737855...</td>\n",
       "      <td>@elonmusk and @joebiden walk into a Chinese ba...</td>\n",
       "      <td>NaN</td>\n",
       "      <td>en</td>\n",
       "      <td>0.0</td>\n",
       "      <td>0</td>\n",
       "      <td>0.0</td>\n",
       "      <td>0.0</td>\n",
       "      <td>10.0</td>\n",
       "      <td>2.0</td>\n",
       "      <td>0.0</td>\n",
       "      <td>NaN</td>\n",
       "      <td>NaN</td>\n",
       "    </tr>\n",
       "    <tr>\n",
       "      <th>2</th>\n",
       "      <td>1.772932e+18</td>\n",
       "      <td>2024-03-27 10:20:02+00:00</td>\n",
       "      <td>The New York Times</td>\n",
       "      <td>nytimes</td>\n",
       "      <td>https://pbs.twimg.com/profile_images/109824457...</td>\n",
       "      <td>Elon Musk helped create China’s electric vehic...</td>\n",
       "      <td>NaN</td>\n",
       "      <td>en</td>\n",
       "      <td>5.0</td>\n",
       "      <td>20</td>\n",
       "      <td>52.0</td>\n",
       "      <td>98.0</td>\n",
       "      <td>113250.0</td>\n",
       "      <td>1.0</td>\n",
       "      <td>1.0</td>\n",
       "      <td>NaN</td>\n",
       "      <td>NaN</td>\n",
       "    </tr>\n",
       "  </tbody>\n",
       "</table>\n",
       "</div>"
      ],
      "text/plain": [
       "             id                  createdAt            fullName  \\\n",
       "0  1.773239e+18  2024-03-28 06:43:19+00:00    Stella Patchouli   \n",
       "1  1.773174e+18  2024-03-28 02:21:41+00:00        Ceti Alpha V   \n",
       "2  1.772932e+18  2024-03-27 10:20:02+00:00  The New York Times   \n",
       "\n",
       "         userName                                       profileImage  \\\n",
       "0     StellaPatch  https://pbs.twimg.com/profile_images/175397939...   \n",
       "1  RichGreenwood5  https://pbs.twimg.com/profile_images/122737855...   \n",
       "2         nytimes  https://pbs.twimg.com/profile_images/109824457...   \n",
       "\n",
       "                                            fullText                replyTo  \\\n",
       "0  @nytimes The curse on Musk iis working!\\r\\n🔥☔🐱🐱🤹💥  1772931578835939584.0   \n",
       "1  @elonmusk and @joebiden walk into a Chinese ba...                    NaN   \n",
       "2  Elon Musk helped create China’s electric vehic...                    NaN   \n",
       "\n",
       "  lang  quoteCount retweetCount  replyCount  likeCount  viewCount  \\\n",
       "0   en         0.0            0         0.0        0.0        9.0   \n",
       "1   en         0.0            0         0.0        0.0       10.0   \n",
       "2   en         5.0           20        52.0       98.0   113250.0   \n",
       "\n",
       "   sentimentLabel1  sentimentLabel2  sentimentLabel3  sentimentLabelFinal  \n",
       "0              0.0              1.0              NaN                  NaN  \n",
       "1              2.0              0.0              NaN                  NaN  \n",
       "2              1.0              1.0              NaN                  NaN  "
      ]
     },
     "execution_count": 89,
     "metadata": {},
     "output_type": "execute_result"
    }
   ],
   "source": [
    "data.head(3)"
   ]
  },
  {
   "cell_type": "code",
   "execution_count": 90,
   "metadata": {
    "colab": {
     "base_uri": "https://localhost:8080/"
    },
    "id": "OHcHWLzqYNIR",
    "outputId": "d44b52cc-ab87-4666-fa44-526f3b8aa32b"
   },
   "outputs": [
    {
     "data": {
      "text/plain": [
       "(305783, 17)"
      ]
     },
     "execution_count": 90,
     "metadata": {},
     "output_type": "execute_result"
    }
   ],
   "source": [
    "data.shape"
   ]
  },
  {
   "cell_type": "code",
   "execution_count": 91,
   "metadata": {
    "colab": {
     "base_uri": "https://localhost:8080/"
    },
    "id": "QZYWcRywYNIR",
    "outputId": "27e3f879-6304-49c6-b64d-1b174bd679f8"
   },
   "outputs": [
    {
     "data": {
      "text/plain": [
       "en                                                    303962\n",
       "tl                                                       506\n",
       "ht                                                       369\n",
       "fr                                                       222\n",
       "es                                                       180\n",
       "no                                                        71\n",
       "et                                                        59\n",
       "in                                                        55\n",
       "de                                                        47\n",
       "nl                                                        45\n",
       "sv                                                        43\n",
       "pt                                                        35\n",
       "it                                                        34\n",
       "qme                                                       26\n",
       "da                                                        23\n",
       "tr                                                        23\n",
       "zxx                                                       15\n",
       "und                                                       11\n",
       "ca                                                         7\n",
       "pl                                                         7\n",
       "lv                                                         6\n",
       "cy                                                         6\n",
       "eu                                                         5\n",
       "hi                                                         5\n",
       "ar                                                         3\n",
       "hu                                                         2\n",
       "is                                                         2\n",
       "qam                                                        2\n",
       "lt                                                         2\n",
       "fa                                                         1\n",
       "ja                                                         1\n",
       "zh                                                         1\n",
       "vi                                                         1\n",
       "@nytimes 1.1 million likes https://t.co/cv46nm6gQD         1\n",
       "qht                                                        1\n",
       "ru                                                         1\n",
       "Name: lang, dtype: int64"
      ]
     },
     "execution_count": 91,
     "metadata": {},
     "output_type": "execute_result"
    }
   ],
   "source": [
    "data['lang'].value_counts()"
   ]
  },
  {
   "cell_type": "code",
   "execution_count": 92,
   "metadata": {
    "id": "nFOAwWEiYNIS"
   },
   "outputs": [],
   "source": [
    "# Filter only eng tweets\n",
    "data = data[data['lang']=='en']"
   ]
  },
  {
   "cell_type": "code",
   "execution_count": 93,
   "metadata": {
    "colab": {
     "base_uri": "https://localhost:8080/"
    },
    "id": "ETnWESiSYNIS",
    "outputId": "6af17675-0908-4a6a-8dd7-4944eb44a490"
   },
   "outputs": [
    {
     "data": {
      "text/plain": [
       "en    303962\n",
       "Name: lang, dtype: int64"
      ]
     },
     "execution_count": 93,
     "metadata": {},
     "output_type": "execute_result"
    }
   ],
   "source": [
    "data['lang'].value_counts()"
   ]
  },
  {
   "cell_type": "markdown",
   "metadata": {
    "id": "qxT11eLjYNIS"
   },
   "source": [
    "# Data Pre-Processing"
   ]
  },
  {
   "cell_type": "code",
   "execution_count": 94,
   "metadata": {
    "id": "GO81FBeCYNIS"
   },
   "outputs": [],
   "source": [
    "data['cleaned_tweet'] = data.fullText.str.lower()"
   ]
  },
  {
   "cell_type": "code",
   "execution_count": 95,
   "metadata": {
    "colab": {
     "base_uri": "https://localhost:8080/"
    },
    "id": "tuA7RBAJYNIT",
    "outputId": "4071c5ac-8a52-423d-b4c4-58924c174737"
   },
   "outputs": [],
   "source": [
    "# Function to remove URLs from text\n",
    "def remove_urls(text):\n",
    "    # Remove URLs starting with http or https\n",
    "    text = re.sub(r'https?:\\/\\/\\S+', '', text)\n",
    "    # Remove URLs starting with www\n",
    "    text = re.sub(r'www\\.[a-z]?\\.?(com)+|[a-z]+\\.(com)', '', text)\n",
    "    return text\n",
    "\n",
    "# Apply the function to the 'cleaned_tweet' column\n",
    "data['cleaned_tweet'] = data['cleaned_tweet'].apply(remove_urls)\n"
   ]
  },
  {
   "cell_type": "code",
   "execution_count": 96,
   "metadata": {
    "id": "iIz16Pk-YNIT"
   },
   "outputs": [],
   "source": [
    "data.cleaned_tweet = data.cleaned_tweet.apply(lambda x: re.sub(r'{link}', '', x))\n",
    "data.cleaned_tweet = data.cleaned_tweet.apply(lambda x: re.sub(r\"\\[video\\]\", '', x))"
   ]
  },
  {
   "cell_type": "code",
   "execution_count": 97,
   "metadata": {
    "id": "Q2CCEBj4YNIT"
   },
   "outputs": [],
   "source": [
    "# # Define a function to replace '@username' with '@user' except for '@elonmusk'\n",
    "# def replace_username(text):\n",
    "#     # Replace all occurrences of '@username' except '@elonmusk'\n",
    "#     return re.sub(r'(@\\w+)(?!elonmusk)', r'@user', text)\n",
    "\n",
    "# # Apply the function to the 'tweet_text' column\n",
    "# data['cleaned_tweet'] = data['cleaned_tweet'].apply(replace_username)\n"
   ]
  },
  {
   "cell_type": "code",
   "execution_count": 98,
   "metadata": {
    "id": "DXka74xuYNIT"
   },
   "outputs": [],
   "source": [
    "def remove_mentions(text):\n",
    "    return re.sub(r'@\\w+', '', text)\n",
    "data['cleaned_tweet'] = data['cleaned_tweet'].apply(remove_mentions)"
   ]
  },
  {
   "cell_type": "code",
   "execution_count": 99,
   "metadata": {
    "colab": {
     "base_uri": "https://localhost:8080/"
    },
    "id": "mRs-WmJ_YNIT",
    "outputId": "a2d52ad1-69d1-4318-f67a-752ab3992771"
   },
   "outputs": [],
   "source": [
    "# Function to expand contractions\n",
    "def expand_contractions(text):\n",
    "    expanded_words = []\n",
    "    for word in text.split():\n",
    "        expanded_words.append(contractions.fix(word))\n",
    "    return ' '.join(expanded_words)\n",
    "\n",
    "# Apply the function to the 'fullText' column\n",
    "data['cleaned_tweet'] = data['cleaned_tweet'].apply(expand_contractions)"
   ]
  },
  {
   "cell_type": "code",
   "execution_count": 100,
   "metadata": {},
   "outputs": [],
   "source": [
    "# Remove accented characters from text using unidecode.\n",
    "def remove_accented_characters(text):\n",
    "    text = unidecode.unidecode(text)\n",
    "    return text\n",
    "\n",
    "data['cleaned_tweet'] = data['cleaned_tweet'].apply(remove_accented_characters)"
   ]
  },
  {
   "cell_type": "code",
   "execution_count": 101,
   "metadata": {},
   "outputs": [
    {
     "name": "stdout",
     "output_type": "stream",
     "text": [
      "                  id                  createdAt            fullName  \\\n",
      "0       1.773239e+18  2024-03-28 06:43:19+00:00    Stella Patchouli   \n",
      "1       1.773174e+18  2024-03-28 02:21:41+00:00        Ceti Alpha V   \n",
      "2       1.772932e+18  2024-03-27 10:20:02+00:00  The New York Times   \n",
      "3       1.773129e+18  2024-03-27 23:25:20+00:00        Cha Ming Sul   \n",
      "4       1.772992e+18  2024-03-27 14:22:04+00:00     Boston Strong 🍀   \n",
      "...              ...                        ...                 ...   \n",
      "305777  1.523967e+18  2022-05-10 10:02:01+00:00   Carlos 🌊🇺🇦🌲🏳️‍🌈🇵🇸   \n",
      "305778  1.523966e+18  2022-05-10 09:58:03+00:00                 JYB   \n",
      "305779  1.523966e+18  2022-05-10 09:57:59+00:00           Jannylove   \n",
      "305780  1.523963e+18  2022-05-10 09:47:58+00:00          Ricky Hele   \n",
      "305782  1.523962e+18  2022-05-10 09:45:33+00:00          Mr Neutron   \n",
      "\n",
      "              userName                                       profileImage  \\\n",
      "0          StellaPatch  https://pbs.twimg.com/profile_images/175397939...   \n",
      "1       RichGreenwood5  https://pbs.twimg.com/profile_images/122737855...   \n",
      "2              nytimes  https://pbs.twimg.com/profile_images/109824457...   \n",
      "3        whitecattails  https://pbs.twimg.com/profile_images/155588539...   \n",
      "4       bostonstronggg  https://pbs.twimg.com/profile_images/174182833...   \n",
      "...                ...                                                ...   \n",
      "305777      Dapherdoos  https://pbs.twimg.com/profile_images/156991472...   \n",
      "305778         JYBally  https://pbs.twimg.com/profile_images/121344852...   \n",
      "305779     Justjanny58  https://pbs.twimg.com/profile_images/442627883...   \n",
      "305780       rickyhele  https://pbs.twimg.com/profile_images/159617975...   \n",
      "305782   The_MrNeutron  https://pbs.twimg.com/profile_images/891375778...   \n",
      "\n",
      "                                                 fullText  \\\n",
      "0       @nytimes The curse on Musk iis working!\\r\\n🔥☔🐱🐱🤹💥   \n",
      "1       @elonmusk and @joebiden walk into a Chinese ba...   \n",
      "2       Elon Musk helped create China’s electric vehic...   \n",
      "3       Lies.\\r\\n\\r\\nMusk faced even greater challenge...   \n",
      "4       @Sp4rksaflyin @nytimes These Electric Tesla ca...   \n",
      "...                                                   ...   \n",
      "305777  @BBCWorld So where is everyone going once he s...   \n",
      "305778                  @BBCWorld You mean his next scam?   \n",
      "305779  @BBCWorld He is a clever man and we all wish t...   \n",
      "305780                    @BBCWorld Per usual - no plans.   \n",
      "305782  @BBCWorld Elon's Twitter Plans\\r\\n1) Throw shi...   \n",
      "\n",
      "                      replyTo lang  quoteCount retweetCount  replyCount  \\\n",
      "0       1772931578835939584.0   en         0.0            0         0.0   \n",
      "1                         NaN   en         0.0            0         0.0   \n",
      "2                         NaN   en         5.0           20        52.0   \n",
      "3                         NaN   en         0.0            0         0.0   \n",
      "4       1772942184456614144.0   en         0.0            0         0.0   \n",
      "...                       ...  ...         ...          ...         ...   \n",
      "305777  1523961553174904832.0   en         0.0            0         1.0   \n",
      "305778  1523961553174904832.0   en         0.0            0         0.0   \n",
      "305779  1523961553174904832.0   en         0.0            0         1.0   \n",
      "305780  1523961553174904832.0   en         0.0            0         0.0   \n",
      "305782  1523961553174904832.0   en         0.0            0         0.0   \n",
      "\n",
      "        likeCount  viewCount  sentimentLabel1  sentimentLabel2  \\\n",
      "0             0.0        9.0              0.0              1.0   \n",
      "1             0.0       10.0              2.0              0.0   \n",
      "2            98.0   113250.0              1.0              1.0   \n",
      "3             2.0       14.0              1.0              0.0   \n",
      "4             0.0       12.0              0.0              0.0   \n",
      "...           ...        ...              ...              ...   \n",
      "305777        1.0        NaN              NaN              NaN   \n",
      "305778        1.0        NaN              NaN              NaN   \n",
      "305779        2.0        NaN              NaN              NaN   \n",
      "305780        6.0        NaN              NaN              NaN   \n",
      "305782        3.0        NaN              NaN              NaN   \n",
      "\n",
      "        sentimentLabel3  sentimentLabelFinal  \\\n",
      "0                   NaN                  NaN   \n",
      "1                   NaN                  NaN   \n",
      "2                   NaN                  NaN   \n",
      "3                   NaN                  NaN   \n",
      "4                   NaN                  NaN   \n",
      "...                 ...                  ...   \n",
      "305777              NaN                  NaN   \n",
      "305778              NaN                  NaN   \n",
      "305779              NaN                  NaN   \n",
      "305780              NaN                  NaN   \n",
      "305782              NaN                  NaN   \n",
      "\n",
      "                                            cleaned_tweet  \n",
      "0                          the curse on musk iis working   \n",
      "1       and walk into a chinese bar elon makes money l...  \n",
      "2       elon musk helped create chinas electric vehicl...  \n",
      "3       lies musk faced even greater challenges from h...  \n",
      "4       these electric tesla cars cannot start in the ...  \n",
      "...                                                   ...  \n",
      "305777  so where is everyone going once he starts chan...  \n",
      "305778                             you mean his next scam  \n",
      "305779  he is a clever man and we all wish that we had...  \n",
      "305780                                per usual  no plans  \n",
      "305782  elons twitter plans  throw shit against the wa...  \n",
      "\n",
      "[303962 rows x 18 columns]\n"
     ]
    }
   ],
   "source": [
    "import re\n",
    "\n",
    "# Function to remove all non-letter characters from a string\n",
    "def remove_non_letters(text):\n",
    "    return re.sub(r'[^a-zA-Z\\s]', '', text)\n",
    "\n",
    "# Apply the function to the 'cleaned_tweet' column\n",
    "data['cleaned_tweet'] = data['cleaned_tweet'].apply(remove_non_letters)\n",
    "\n",
    "# Display the DataFrame with cleaned tweets\n",
    "print(data)\n"
   ]
  },
  {
   "cell_type": "code",
   "execution_count": 102,
   "metadata": {},
   "outputs": [],
   "source": [
    "# from joblib import Parallel, delayed\n",
    "# from autocorrect import Speller\n",
    "# from tqdm import tqdm\n",
    "\n",
    "# def spell_correction_parallel(texts):\n",
    "#     \"\"\"\n",
    "#     Perform spell correction on a list of texts using parallel processing with a progress bar.\n",
    "\n",
    "#     Args:\n",
    "#         texts (list): A list of input texts to be corrected.\n",
    "\n",
    "#     Returns:\n",
    "#         list: A list of corrected texts.\n",
    "#     \"\"\"\n",
    "#     # Initialize the Speller object\n",
    "#     spell = Speller()\n",
    "\n",
    "#     # Define a function for spell correction\n",
    "#     def correct_text(text):\n",
    "#         return spell(text)\n",
    "\n",
    "#     # Use parallel processing with tqdm progress bar\n",
    "#     corrected_texts = Parallel(n_jobs=-1)(delayed(correct_text)(text) for text in tqdm(texts, desc=\"Spell Correction\"))\n",
    "\n",
    "#     return corrected_texts\n",
    "\n",
    "# # Extract cleaned tweets from DataFrame column\n",
    "# cleaned_tweets = data['cleaned_tweet'].tolist()\n",
    "\n",
    "# # Perform spell correction on the cleaned tweets\n",
    "# corrected_tweets = spell_correction_parallel(cleaned_tweets)\n",
    "\n",
    "# # Replace the original cleaned tweets with the corrected ones\n",
    "# data['cleaned_tweet'] = corrected_tweets\n",
    "\n",
    "# # Save or use the DataFrame with corrected tweets as needed\n"
   ]
  },
  {
   "cell_type": "code",
   "execution_count": 103,
   "metadata": {
    "colab": {
     "base_uri": "https://localhost:8080/"
    },
    "id": "sXZPeMLtYNIU",
    "outputId": "3a4c72d1-01ef-429d-8fba-c807c5f7c50f"
   },
   "outputs": [
    {
     "name": "stdout",
     "output_type": "stream",
     "text": [
      "Text with emojis: I'm feeling 😊 today!\n",
      "Text without emojis: I'm feeling :smiling_face_with_smiling_eyes: today!\n"
     ]
    }
   ],
   "source": [
    "import emoji\n",
    "\n",
    "def convert_emojis_to_text(text):\n",
    "    # Convert emojis to text\n",
    "    text_with_emojis = emoji.demojize(text)\n",
    "    return text_with_emojis\n",
    "\n",
    "# Example usage\n",
    "text_with_emojis = \"I'm feeling 😊 today!\"\n",
    "text_without_emojis = convert_emojis_to_text(text_with_emojis)\n",
    "\n",
    "# Apply to data\n",
    "data['cleaned_tweet_vader'] = data['cleaned_tweet'].apply(convert_emojis_to_text)\n",
    "\n",
    "print(\"Text with emojis:\", text_with_emojis)\n",
    "print(\"Text without emojis:\", text_without_emojis)\n"
   ]
  },
  {
   "cell_type": "code",
   "execution_count": null,
   "metadata": {
    "id": "Lq1qPRj4YNIU"
   },
   "outputs": [],
   "source": [
    "#remove stop words\n",
    "def remove_stopwords(text):\n",
    "    stop_words = set(stopwords.words('english'))\n",
    "    word_tokens = nltk.word_tokenize(text)\n",
    "    filtered_text = [word for word in word_tokens if word.lower() not in stop_words]\n",
    "    return ' '.join(filtered_text)\n",
    "\n",
    "# Apply the remove_stopwords function to the 'cleaned_tweet' column\n",
    "data['cleaned_tweet_vader'] = data['cleaned_tweet_vader'].apply(remove_stopwords)"
   ]
  },
  {
   "cell_type": "code",
   "execution_count": null,
   "metadata": {
    "id": "xgAaI3zGYNIV"
   },
   "outputs": [],
   "source": [
    "lemmatizer = nltk.stem.WordNetLemmatizer()\n",
    "w_tokenizer = TweetTokenizer()\n",
    "def lemmatize_text(text):\n",
    "    return [(lemmatizer.lemmatize(w)) for w in \\\n",
    "                                     w_tokenizer.tokenize((text))]\n",
    "data['tokens'] = data['cleaned_tweet'].apply(lemmatize_text)\n"
   ]
  },
  {
   "cell_type": "code",
   "execution_count": null,
   "metadata": {
    "id": "9djDsUj5YNIV"
   },
   "outputs": [],
   "source": [
    "PUNCUATION_LIST = list(string.punctuation)\n",
    "def remove_punctuation(word_list):\n",
    "    \"\"\"Remove punctuation tokens from a list of tokens\"\"\"\n",
    "    return [w for w in word_list if w not in PUNCUATION_LIST]\n",
    "data['tokens'] = data['tokens'].apply(remove_punctuation)"
   ]
  },
  {
   "cell_type": "code",
   "execution_count": 110,
   "metadata": {},
   "outputs": [
    {
     "name": "stdout",
     "output_type": "stream",
     "text": [
      "<class 'pandas.core.frame.DataFrame'>\n",
      "Int64Index: 287188 entries, 0 to 305782\n",
      "Data columns (total 19 columns):\n",
      " #   Column               Non-Null Count   Dtype  \n",
      "---  ------               --------------   -----  \n",
      " 0   id                   287187 non-null  float64\n",
      " 1   createdAt            287188 non-null  object \n",
      " 2   fullName             287154 non-null  object \n",
      " 3   userName             287188 non-null  object \n",
      " 4   profileImage         287188 non-null  object \n",
      " 5   fullText             287188 non-null  object \n",
      " 6   replyTo              287188 non-null  object \n",
      " 7   lang                 287188 non-null  object \n",
      " 8   quoteCount           287188 non-null  float64\n",
      " 9   retweetCount         287188 non-null  object \n",
      " 10  replyCount           287188 non-null  float64\n",
      " 11  likeCount            287188 non-null  float64\n",
      " 12  viewCount            103504 non-null  float64\n",
      " 13  sentimentLabel1      1790 non-null    float64\n",
      " 14  sentimentLabel2      1201 non-null    float64\n",
      " 15  sentimentLabel3      996 non-null     float64\n",
      " 16  sentimentLabelFinal  999 non-null     float64\n",
      " 17  cleaned_tweet        287188 non-null  object \n",
      " 18  cleaned_tweet_vader  287188 non-null  object \n",
      "dtypes: float64(9), object(10)\n",
      "memory usage: 43.8+ MB\n"
     ]
    }
   ],
   "source": [
    "data.info()"
   ]
  },
  {
   "cell_type": "code",
   "execution_count": 107,
   "metadata": {
    "id": "yshqbaKQYNIV"
   },
   "outputs": [],
   "source": [
    "data.dropna(subset=['cleaned_tweet'], inplace=True)"
   ]
  },
  {
   "cell_type": "code",
   "execution_count": 48,
   "metadata": {
    "colab": {
     "base_uri": "https://localhost:8080/",
     "height": 424
    },
    "id": "u--zwgTRYNIV",
    "outputId": "72ad6533-7e3b-4ca9-ffd3-79ab1a58f1c5"
   },
   "outputs": [
    {
     "data": {
      "text/html": [
       "<div>\n",
       "<style scoped>\n",
       "    .dataframe tbody tr th:only-of-type {\n",
       "        vertical-align: middle;\n",
       "    }\n",
       "\n",
       "    .dataframe tbody tr th {\n",
       "        vertical-align: top;\n",
       "    }\n",
       "\n",
       "    .dataframe thead th {\n",
       "        text-align: right;\n",
       "    }\n",
       "</style>\n",
       "<table border=\"1\" class=\"dataframe\">\n",
       "  <thead>\n",
       "    <tr style=\"text-align: right;\">\n",
       "      <th></th>\n",
       "      <th>fullText</th>\n",
       "      <th>cleaned_tweet</th>\n",
       "    </tr>\n",
       "  </thead>\n",
       "  <tbody>\n",
       "    <tr>\n",
       "      <th>0</th>\n",
       "      <td>@nytimes The curse on Musk iis working!\\r\\n🔥☔🐱🐱🤹💥</td>\n",
       "      <td>the curse on musk iis working!</td>\n",
       "    </tr>\n",
       "    <tr>\n",
       "      <th>1</th>\n",
       "      <td>@elonmusk and @joebiden walk into a Chinese ba...</td>\n",
       "      <td>and walk into a chinese bar. elon makes money ...</td>\n",
       "    </tr>\n",
       "    <tr>\n",
       "      <th>2</th>\n",
       "      <td>Elon Musk helped create China’s electric vehic...</td>\n",
       "      <td>elon musk helped create china's electric vehic...</td>\n",
       "    </tr>\n",
       "    <tr>\n",
       "      <th>3</th>\n",
       "      <td>Lies.\\r\\n\\r\\nMusk faced even greater challenge...</td>\n",
       "      <td>lies. musk faced even greater challenges from ...</td>\n",
       "    </tr>\n",
       "    <tr>\n",
       "      <th>4</th>\n",
       "      <td>@Sp4rksaflyin @nytimes These Electric Tesla ca...</td>\n",
       "      <td>these electric tesla cars cannot start in the ...</td>\n",
       "    </tr>\n",
       "    <tr>\n",
       "      <th>...</th>\n",
       "      <td>...</td>\n",
       "      <td>...</td>\n",
       "    </tr>\n",
       "    <tr>\n",
       "      <th>95</th>\n",
       "      <td>@global13news @guardiannews It’s a pretty repu...</td>\n",
       "      <td>it is a pretty reputable source, sensor tower....</td>\n",
       "    </tr>\n",
       "    <tr>\n",
       "      <th>96</th>\n",
       "      <td>@guardiannews Haha... Off course it has 😋\\r\\nA...</td>\n",
       "      <td>haha... off course it has  and it is fake stat...</td>\n",
       "    </tr>\n",
       "    <tr>\n",
       "      <th>97</th>\n",
       "      <td>Please share this post with your friends who s...</td>\n",
       "      <td>please share this post with your friends who s...</td>\n",
       "    </tr>\n",
       "    <tr>\n",
       "      <th>98</th>\n",
       "      <td>@guardiannews No. This is erroneous.</td>\n",
       "      <td>no. this is erroneous.</td>\n",
       "    </tr>\n",
       "    <tr>\n",
       "      <th>99</th>\n",
       "      <td>@Lukestonehm @pascarey90 @guardiannews @elonmu...</td>\n",
       "      <td>data is from sensor tower, who musk has quoted...</td>\n",
       "    </tr>\n",
       "  </tbody>\n",
       "</table>\n",
       "<p>100 rows × 2 columns</p>\n",
       "</div>"
      ],
      "text/plain": [
       "                                             fullText  \\\n",
       "0   @nytimes The curse on Musk iis working!\\r\\n🔥☔🐱🐱🤹💥   \n",
       "1   @elonmusk and @joebiden walk into a Chinese ba...   \n",
       "2   Elon Musk helped create China’s electric vehic...   \n",
       "3   Lies.\\r\\n\\r\\nMusk faced even greater challenge...   \n",
       "4   @Sp4rksaflyin @nytimes These Electric Tesla ca...   \n",
       "..                                                ...   \n",
       "95  @global13news @guardiannews It’s a pretty repu...   \n",
       "96  @guardiannews Haha... Off course it has 😋\\r\\nA...   \n",
       "97  Please share this post with your friends who s...   \n",
       "98               @guardiannews No. This is erroneous.   \n",
       "99  @Lukestonehm @pascarey90 @guardiannews @elonmu...   \n",
       "\n",
       "                                        cleaned_tweet  \n",
       "0                     the curse on musk iis working!   \n",
       "1   and walk into a chinese bar. elon makes money ...  \n",
       "2   elon musk helped create china's electric vehic...  \n",
       "3   lies. musk faced even greater challenges from ...  \n",
       "4   these electric tesla cars cannot start in the ...  \n",
       "..                                                ...  \n",
       "95  it is a pretty reputable source, sensor tower....  \n",
       "96  haha... off course it has  and it is fake stat...  \n",
       "97  please share this post with your friends who s...  \n",
       "98                             no. this is erroneous.  \n",
       "99  data is from sensor tower, who musk has quoted...  \n",
       "\n",
       "[100 rows x 2 columns]"
      ]
     },
     "execution_count": 48,
     "metadata": {},
     "output_type": "execute_result"
    }
   ],
   "source": [
    "data[['fullText', 'cleaned_tweet']].head(100)"
   ]
  },
  {
   "cell_type": "code",
   "execution_count": 50,
   "metadata": {
    "id": "AJMHJFeUYNIb"
   },
   "outputs": [],
   "source": [
    "data.to_csv('preprocesssed_data.csv', index=False)"
   ]
  },
  {
   "cell_type": "code",
   "execution_count": null,
   "metadata": {},
   "outputs": [],
   "source": []
  },
  {
   "cell_type": "code",
   "execution_count": null,
   "metadata": {},
   "outputs": [],
   "source": []
  },
  {
   "cell_type": "code",
   "execution_count": null,
   "metadata": {},
   "outputs": [],
   "source": []
  },
  {
   "cell_type": "code",
   "execution_count": null,
   "metadata": {},
   "outputs": [],
   "source": []
  }
 ],
 "metadata": {
  "accelerator": "GPU",
  "colab": {
   "gpuType": "T4",
   "provenance": [],
   "toc_visible": true
  },
  "kernelspec": {
   "display_name": "Python 3 (ipykernel)",
   "language": "python",
   "name": "python3"
  },
  "language_info": {
   "codemirror_mode": {
    "name": "ipython",
    "version": 3
   },
   "file_extension": ".py",
   "mimetype": "text/x-python",
   "name": "python",
   "nbconvert_exporter": "python",
   "pygments_lexer": "ipython3",
   "version": "3.9.12"
  }
 },
 "nbformat": 4,
 "nbformat_minor": 1
}
