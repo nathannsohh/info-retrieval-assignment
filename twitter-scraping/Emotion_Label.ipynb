{
 "cells": [
  {
   "cell_type": "code",
   "execution_count": null,
   "id": "cAiLkMhJrtOB",
   "metadata": {
    "id": "cAiLkMhJrtOB"
   },
   "outputs": [],
   "source": [
    "# pip install transformers"
   ]
  },
  {
   "cell_type": "code",
   "execution_count": null,
   "id": "pIoxtbkErwOU",
   "metadata": {
    "id": "pIoxtbkErwOU"
   },
   "outputs": [],
   "source": [
    "# pip install accelerate -U"
   ]
  },
  {
   "cell_type": "code",
   "execution_count": null,
   "id": "bee3503d",
   "metadata": {
    "id": "bee3503d"
   },
   "outputs": [],
   "source": [
    "import numpy as np\n",
    "import pandas as pd\n",
    "import matplotlib.pyplot as plt\n",
    "import seaborn as sns\n",
    "import re\n",
    "from transformers import AutoTokenizer, AutoModelForSequenceClassification, Trainer\n",
    "from nltk.tokenize import TweetTokenizer\n",
    "from scipy.special import softmax\n"
   ]
  },
  {
   "cell_type": "code",
   "execution_count": null,
   "id": "e20eceb7",
   "metadata": {
    "id": "e20eceb7"
   },
   "outputs": [],
   "source": [
    "data = pd.read_csv('preprocessed_data.csv')"
   ]
  },
  {
   "cell_type": "code",
   "execution_count": null,
   "id": "f53ec1c5",
   "metadata": {
    "colab": {
     "base_uri": "https://localhost:8080/"
    },
    "id": "f53ec1c5",
    "outputId": "fe1b5d55-dac2-4323-ff59-7ae800d7edb2"
   },
   "outputs": [
    {
     "name": "stdout",
     "output_type": "stream",
     "text": [
      "<class 'pandas.core.frame.DataFrame'>\n",
      "RangeIndex: 287188 entries, 0 to 287187\n",
      "Data columns (total 20 columns):\n",
      " #   Column               Non-Null Count   Dtype  \n",
      "---  ------               --------------   -----  \n",
      " 0   id                   287187 non-null  float64\n",
      " 1   createdAt            287188 non-null  object \n",
      " 2   fullName             287149 non-null  object \n",
      " 3   userName             287188 non-null  object \n",
      " 4   profileImage         287188 non-null  object \n",
      " 5   fullText             287188 non-null  object \n",
      " 6   replyTo              287188 non-null  float64\n",
      " 7   lang                 287188 non-null  object \n",
      " 8   quoteCount           287188 non-null  int64  \n",
      " 9   retweetCount         287188 non-null  int64  \n",
      " 10  replyCount           287188 non-null  int64  \n",
      " 11  likeCount            287188 non-null  int64  \n",
      " 12  viewCount            103504 non-null  float64\n",
      " 13  sentimentLabel1      1790 non-null    float64\n",
      " 14  sentimentLabel2      1201 non-null    float64\n",
      " 15  sentimentLabel3      996 non-null     float64\n",
      " 16  sentimentLabelFinal  996 non-null     float64\n",
      " 17  cleaned_tweet        287188 non-null  object \n",
      " 18  cleaned_tweet_vader  285637 non-null  object \n",
      " 19  tokens               287188 non-null  object \n",
      "dtypes: float64(7), int64(4), object(9)\n",
      "memory usage: 43.8+ MB\n"
     ]
    }
   ],
   "source": [
    "data.info()"
   ]
  },
  {
   "cell_type": "code",
   "execution_count": null,
   "id": "pwySn9PJ-uDE",
   "metadata": {
    "colab": {
     "base_uri": "https://localhost:8080/"
    },
    "id": "pwySn9PJ-uDE",
    "outputId": "39671aa1-312b-4ed4-bb83-e6521a718df7"
   },
   "outputs": [
    {
     "name": "stderr",
     "output_type": "stream",
     "text": [
      "[nltk_data] Downloading package stopwords to /root/nltk_data...\n",
      "[nltk_data]   Package stopwords is already up-to-date!\n",
      "[nltk_data] Downloading package punkt to /root/nltk_data...\n",
      "[nltk_data]   Package punkt is already up-to-date!\n"
     ]
    }
   ],
   "source": [
    "#remove stop words\n",
    "import nltk\n",
    "from nltk.corpus import stopwords\n",
    "nltk.download('stopwords')\n",
    "nltk.download('punkt')\n",
    "\n",
    "def remove_stopwords(text):\n",
    "    stop_words = set(stopwords.words('english'))\n",
    "    word_tokens = nltk.word_tokenize(text)\n",
    "    filtered_text = [word for word in word_tokens if word.lower() not in stop_words]\n",
    "    return ' '.join(filtered_text)\n",
    "\n",
    "# Apply the remove_stopwords function to the 'cleaned_tweet' column\n",
    "data['cleaned_tweet'] = data['cleaned_tweet'].apply(remove_stopwords)"
   ]
  },
  {
   "cell_type": "markdown",
   "id": "chMY39pcknde",
   "metadata": {
    "id": "chMY39pcknde"
   },
   "source": [
    "## Emotion Label Model"
   ]
  },
  {
   "cell_type": "code",
   "execution_count": null,
   "id": "59a02d16",
   "metadata": {
    "colab": {
     "base_uri": "https://localhost:8080/"
    },
    "id": "59a02d16",
    "outputId": "08047ea8-c3a1-4c54-e309-b7cad3a1a691"
   },
   "outputs": [
    {
     "name": "stderr",
     "output_type": "stream",
     "text": [
      "/usr/local/lib/python3.10/dist-packages/accelerate/accelerator.py:436: FutureWarning: Passing the following arguments to `Accelerator` is deprecated and will be removed in version 1.0 of Accelerate: dict_keys(['dispatch_batches', 'split_batches', 'even_batches', 'use_seedable_sampler']). Please pass an `accelerate.DataLoaderConfiguration` instead: \n",
      "dataloader_config = DataLoaderConfiguration(dispatch_batches=None, split_batches=False, even_batches=True, use_seedable_sampler=True)\n",
      "  warnings.warn(\n"
     ]
    }
   ],
   "source": [
    "# load tokenizer and model, create trainer\n",
    "model_name = \"j-hartmann/emotion-english-distilroberta-base\"\n",
    "tokenizer = AutoTokenizer.from_pretrained(model_name)\n",
    "model = AutoModelForSequenceClassification.from_pretrained(model_name)\n",
    "trainer = Trainer(model=model)"
   ]
  },
  {
   "cell_type": "code",
   "execution_count": null,
   "id": "0ae68918",
   "metadata": {
    "id": "0ae68918"
   },
   "outputs": [],
   "source": [
    "# Create class for data preparation\n",
    "class SimpleDataset:\n",
    "    def __init__(self, tokenized_texts):\n",
    "        self.tokenized_texts = tokenized_texts\n",
    "\n",
    "    def __len__(self):\n",
    "        return len(self.tokenized_texts[\"input_ids\"])\n",
    "\n",
    "    def __getitem__(self, idx):\n",
    "        return {k: v[idx] for k, v in self.tokenized_texts.items()}"
   ]
  },
  {
   "cell_type": "code",
   "execution_count": null,
   "id": "ab3239ec",
   "metadata": {
    "id": "ab3239ec"
   },
   "outputs": [],
   "source": [
    "tweets = data['cleaned_tweet'].dropna().astype('str').tolist()"
   ]
  },
  {
   "cell_type": "code",
   "execution_count": null,
   "id": "23fe8899",
   "metadata": {
    "id": "23fe8899"
   },
   "outputs": [],
   "source": [
    "# Tokenize texts and create prediction data set\n",
    "tokenized_texts = tokenizer(tweets,truncation=True,padding=True)"
   ]
  },
  {
   "cell_type": "code",
   "execution_count": null,
   "id": "v4YRiG5vAQit",
   "metadata": {
    "id": "v4YRiG5vAQit"
   },
   "outputs": [],
   "source": [
    "prediction_dataset = SimpleDataset(tokenized_texts)"
   ]
  },
  {
   "cell_type": "code",
   "execution_count": null,
   "id": "c27be23f",
   "metadata": {
    "colab": {
     "base_uri": "https://localhost:8080/",
     "height": 17
    },
    "id": "c27be23f",
    "outputId": "3f07a876-7d13-4ba5-c80b-c5c049e3a4a0"
   },
   "outputs": [
    {
     "data": {
      "text/html": [],
      "text/plain": [
       "<IPython.core.display.HTML object>"
      ]
     },
     "metadata": {},
     "output_type": "display_data"
    }
   ],
   "source": [
    "predictions = trainer.predict(prediction_dataset)"
   ]
  },
  {
   "cell_type": "code",
   "execution_count": null,
   "id": "a5174fac",
   "metadata": {
    "id": "a5174fac"
   },
   "outputs": [],
   "source": [
    "# Transform predictions to labels\n",
    "preds = predictions.predictions.argmax(-1)\n",
    "labels = pd.Series(preds).map(model.config.id2label)\n",
    "scores = (np.exp(predictions[0])/np.exp(predictions[0]).sum(-1,keepdims=True)).max(1)"
   ]
  },
  {
   "cell_type": "code",
   "execution_count": null,
   "id": "66d2810b",
   "metadata": {
    "id": "66d2810b"
   },
   "outputs": [],
   "source": [
    "temp = (np.exp(predictions[0])/np.exp(predictions[0]).sum(-1,keepdims=True))\n"
   ]
  },
  {
   "cell_type": "code",
   "execution_count": null,
   "id": "11350dcc",
   "metadata": {
    "id": "11350dcc"
   },
   "outputs": [],
   "source": [
    "anger = []\n",
    "disgust = []\n",
    "fear = []\n",
    "joy = []\n",
    "neutral = []\n",
    "sadness = []\n",
    "surprise = []\n",
    "\n",
    "# extract scores (as many entries as exist in pred_texts)\n",
    "for i in range(len(tweets)):\n",
    "  anger.append(temp[i][0])\n",
    "  disgust.append(temp[i][1])\n",
    "  fear.append(temp[i][2])\n",
    "  joy.append(temp[i][3])\n",
    "  neutral.append(temp[i][4])\n",
    "  sadness.append(temp[i][5])\n",
    "  surprise.append(temp[i][6])"
   ]
  },
  {
   "cell_type": "code",
   "execution_count": null,
   "id": "1uTUMT875FZ-",
   "metadata": {
    "id": "1uTUMT875FZ-"
   },
   "outputs": [],
   "source": [
    "data['anger'] = anger\n",
    "data['disgust'] = disgust\n",
    "data['fear'] = fear\n",
    "data['joy'] = joy\n",
    "data['neutral'] = neutral\n",
    "data['sadness'] = sadness\n",
    "data['surprise'] = surprise\n",
    "data['emotion_label'] = labels"
   ]
  },
  {
   "cell_type": "code",
   "execution_count": null,
   "id": "XF5Liksb6wWu",
   "metadata": {
    "colab": {
     "base_uri": "https://localhost:8080/"
    },
    "id": "XF5Liksb6wWu",
    "outputId": "6669f869-17fc-4777-e7c1-46d1acb689b1"
   },
   "outputs": [
    {
     "name": "stdout",
     "output_type": "stream",
     "text": [
      "<class 'pandas.core.frame.DataFrame'>\n",
      "RangeIndex: 287188 entries, 0 to 287187\n",
      "Data columns (total 28 columns):\n",
      " #   Column               Non-Null Count   Dtype  \n",
      "---  ------               --------------   -----  \n",
      " 0   id                   287187 non-null  float64\n",
      " 1   createdAt            287188 non-null  object \n",
      " 2   fullName             287149 non-null  object \n",
      " 3   userName             287188 non-null  object \n",
      " 4   profileImage         287188 non-null  object \n",
      " 5   fullText             287188 non-null  object \n",
      " 6   replyTo              287188 non-null  float64\n",
      " 7   lang                 287188 non-null  object \n",
      " 8   quoteCount           287188 non-null  int64  \n",
      " 9   retweetCount         287188 non-null  int64  \n",
      " 10  replyCount           287188 non-null  int64  \n",
      " 11  likeCount            287188 non-null  int64  \n",
      " 12  viewCount            103504 non-null  float64\n",
      " 13  sentimentLabel1      1790 non-null    float64\n",
      " 14  sentimentLabel2      1201 non-null    float64\n",
      " 15  sentimentLabel3      996 non-null     float64\n",
      " 16  sentimentLabelFinal  996 non-null     float64\n",
      " 17  cleaned_tweet        287188 non-null  object \n",
      " 18  cleaned_tweet_vader  285637 non-null  object \n",
      " 19  tokens               287188 non-null  object \n",
      " 20  anger                287188 non-null  float32\n",
      " 21  disgust              287188 non-null  float32\n",
      " 22  fear                 287188 non-null  float32\n",
      " 23  joy                  287188 non-null  float32\n",
      " 24  neutral              287188 non-null  float32\n",
      " 25  sadness              287188 non-null  float32\n",
      " 26  surprise             287188 non-null  float32\n",
      " 27  emotion_label        287188 non-null  object \n",
      "dtypes: float32(7), float64(7), int64(4), object(10)\n",
      "memory usage: 53.7+ MB\n"
     ]
    }
   ],
   "source": [
    "data.info()"
   ]
  },
  {
   "cell_type": "code",
   "execution_count": null,
   "id": "1Oz5BWYD5Fcn",
   "metadata": {
    "colab": {
     "base_uri": "https://localhost:8080/"
    },
    "id": "1Oz5BWYD5Fcn",
    "outputId": "9d28ca6e-9aa4-4d20-9752-77f775e675a6"
   },
   "outputs": [
    {
     "data": {
      "text/plain": [
       "emotion_label\n",
       "neutral     143590\n",
       "anger        49114\n",
       "sadness      27897\n",
       "surprise     22168\n",
       "joy          21979\n",
       "fear         13746\n",
       "disgust       8694\n",
       "Name: count, dtype: int64"
      ]
     },
     "execution_count": 24,
     "metadata": {},
     "output_type": "execute_result"
    }
   ],
   "source": [
    "data['emotion_label'].value_counts()"
   ]
  },
  {
   "cell_type": "code",
   "execution_count": 3,
   "id": "54b0130b",
   "metadata": {},
   "outputs": [
    {
     "data": {
      "text/html": [
       "<div>\n",
       "<style scoped>\n",
       "    .dataframe tbody tr th:only-of-type {\n",
       "        vertical-align: middle;\n",
       "    }\n",
       "\n",
       "    .dataframe tbody tr th {\n",
       "        vertical-align: top;\n",
       "    }\n",
       "\n",
       "    .dataframe thead th {\n",
       "        text-align: right;\n",
       "    }\n",
       "</style>\n",
       "<table border=\"1\" class=\"dataframe\">\n",
       "  <thead>\n",
       "    <tr style=\"text-align: right;\">\n",
       "      <th></th>\n",
       "      <th>id</th>\n",
       "      <th>createdAt</th>\n",
       "      <th>fullName</th>\n",
       "      <th>userName</th>\n",
       "      <th>profileImage</th>\n",
       "      <th>fullText</th>\n",
       "      <th>replyTo</th>\n",
       "      <th>lang</th>\n",
       "      <th>quoteCount</th>\n",
       "      <th>retweetCount</th>\n",
       "      <th>...</th>\n",
       "      <th>cleaned_tweet_vader</th>\n",
       "      <th>tokens</th>\n",
       "      <th>anger</th>\n",
       "      <th>disgust</th>\n",
       "      <th>fear</th>\n",
       "      <th>joy</th>\n",
       "      <th>neutral</th>\n",
       "      <th>sadness</th>\n",
       "      <th>surprise</th>\n",
       "      <th>emotion_label</th>\n",
       "    </tr>\n",
       "  </thead>\n",
       "  <tbody>\n",
       "    <tr>\n",
       "      <th>0</th>\n",
       "      <td>1.773239e+18</td>\n",
       "      <td>2024-03-28 06:43:19+00:00</td>\n",
       "      <td>Stella Patchouli</td>\n",
       "      <td>StellaPatch</td>\n",
       "      <td>https://pbs.twimg.com/profile_images/175397939...</td>\n",
       "      <td>@nytimes The curse on Musk iis working!\\r\\n🔥☔🐱🐱🤹💥</td>\n",
       "      <td>1772931578835939584</td>\n",
       "      <td>en</td>\n",
       "      <td>0</td>\n",
       "      <td>0</td>\n",
       "      <td>...</td>\n",
       "      <td>curse musk iis working</td>\n",
       "      <td>['the', 'curse', 'on', 'musk', 'ii', 'working']</td>\n",
       "      <td>0.007012</td>\n",
       "      <td>0.004977</td>\n",
       "      <td>0.007745</td>\n",
       "      <td>0.007550</td>\n",
       "      <td>0.592750</td>\n",
       "      <td>0.312809</td>\n",
       "      <td>0.067157</td>\n",
       "      <td>neutral</td>\n",
       "    </tr>\n",
       "    <tr>\n",
       "      <th>1</th>\n",
       "      <td>1.772992e+18</td>\n",
       "      <td>2024-03-27 14:22:04+00:00</td>\n",
       "      <td>Boston Strong 🍀</td>\n",
       "      <td>bostonstronggg</td>\n",
       "      <td>https://pbs.twimg.com/profile_images/174182833...</td>\n",
       "      <td>@Sp4rksaflyin @nytimes These Electric Tesla ca...</td>\n",
       "      <td>1772942184456614144</td>\n",
       "      <td>en</td>\n",
       "      <td>0</td>\n",
       "      <td>0</td>\n",
       "      <td>...</td>\n",
       "      <td>electric tesla cars start new england cold fri...</td>\n",
       "      <td>['these', 'electric', 'tesla', 'car', 'cannot'...</td>\n",
       "      <td>0.036987</td>\n",
       "      <td>0.001647</td>\n",
       "      <td>0.003299</td>\n",
       "      <td>0.211342</td>\n",
       "      <td>0.514728</td>\n",
       "      <td>0.020631</td>\n",
       "      <td>0.211366</td>\n",
       "      <td>neutral</td>\n",
       "    </tr>\n",
       "    <tr>\n",
       "      <th>2</th>\n",
       "      <td>1.772956e+18</td>\n",
       "      <td>2024-03-27 11:56:58+00:00</td>\n",
       "      <td>Don't Start, Won't Be</td>\n",
       "      <td>GetBackToNo</td>\n",
       "      <td>https://pbs.twimg.com/profile_images/134400549...</td>\n",
       "      <td>@nytimes Is there something wrong with the Chi...</td>\n",
       "      <td>1772931578835939584</td>\n",
       "      <td>en</td>\n",
       "      <td>0</td>\n",
       "      <td>0</td>\n",
       "      <td>...</td>\n",
       "      <td>something wrong chinese communist party</td>\n",
       "      <td>['is', 'there', 'something', 'wrong', 'with', ...</td>\n",
       "      <td>0.361652</td>\n",
       "      <td>0.008085</td>\n",
       "      <td>0.011581</td>\n",
       "      <td>0.002932</td>\n",
       "      <td>0.066830</td>\n",
       "      <td>0.513652</td>\n",
       "      <td>0.035267</td>\n",
       "      <td>sadness</td>\n",
       "    </tr>\n",
       "    <tr>\n",
       "      <th>3</th>\n",
       "      <td>1.772946e+18</td>\n",
       "      <td>2024-03-27 11:17:08+00:00</td>\n",
       "      <td>novus locus</td>\n",
       "      <td>HuttonRich55685</td>\n",
       "      <td>https://pbs.twimg.com/profile_images/170782492...</td>\n",
       "      <td>@nytimes I love my Chinese IPhone. Thank you c...</td>\n",
       "      <td>1772931578835939584</td>\n",
       "      <td>en</td>\n",
       "      <td>0</td>\n",
       "      <td>0</td>\n",
       "      <td>...</td>\n",
       "      <td>love chinese iphone thank comrade apple</td>\n",
       "      <td>['i', 'love', 'my', 'chinese', 'iphone', 'than...</td>\n",
       "      <td>0.004483</td>\n",
       "      <td>0.000653</td>\n",
       "      <td>0.001027</td>\n",
       "      <td>0.759493</td>\n",
       "      <td>0.071811</td>\n",
       "      <td>0.012780</td>\n",
       "      <td>0.149753</td>\n",
       "      <td>joy</td>\n",
       "    </tr>\n",
       "    <tr>\n",
       "      <th>4</th>\n",
       "      <td>1.772946e+18</td>\n",
       "      <td>2024-03-27 11:16:54+00:00</td>\n",
       "      <td>Politics Barn</td>\n",
       "      <td>PoliticsBarn</td>\n",
       "      <td>https://pbs.twimg.com/profile_images/119881591...</td>\n",
       "      <td>@nytimes And we can read all about it on our m...</td>\n",
       "      <td>1772931578835939584</td>\n",
       "      <td>en</td>\n",
       "      <td>0</td>\n",
       "      <td>0</td>\n",
       "      <td>...</td>\n",
       "      <td>read madeinchina devices</td>\n",
       "      <td>['and', 'we', 'can', 'read', 'all', 'about', '...</td>\n",
       "      <td>0.004016</td>\n",
       "      <td>0.002191</td>\n",
       "      <td>0.002639</td>\n",
       "      <td>0.026681</td>\n",
       "      <td>0.587482</td>\n",
       "      <td>0.037722</td>\n",
       "      <td>0.339270</td>\n",
       "      <td>neutral</td>\n",
       "    </tr>\n",
       "  </tbody>\n",
       "</table>\n",
       "<p>5 rows × 28 columns</p>\n",
       "</div>"
      ],
      "text/plain": [
       "             id                  createdAt               fullName  \\\n",
       "0  1.773239e+18  2024-03-28 06:43:19+00:00       Stella Patchouli   \n",
       "1  1.772992e+18  2024-03-27 14:22:04+00:00        Boston Strong 🍀   \n",
       "2  1.772956e+18  2024-03-27 11:56:58+00:00  Don't Start, Won't Be   \n",
       "3  1.772946e+18  2024-03-27 11:17:08+00:00            novus locus   \n",
       "4  1.772946e+18  2024-03-27 11:16:54+00:00          Politics Barn   \n",
       "\n",
       "          userName                                       profileImage  \\\n",
       "0      StellaPatch  https://pbs.twimg.com/profile_images/175397939...   \n",
       "1   bostonstronggg  https://pbs.twimg.com/profile_images/174182833...   \n",
       "2      GetBackToNo  https://pbs.twimg.com/profile_images/134400549...   \n",
       "3  HuttonRich55685  https://pbs.twimg.com/profile_images/170782492...   \n",
       "4     PoliticsBarn  https://pbs.twimg.com/profile_images/119881591...   \n",
       "\n",
       "                                            fullText              replyTo  \\\n",
       "0  @nytimes The curse on Musk iis working!\\r\\n🔥☔🐱🐱🤹💥  1772931578835939584   \n",
       "1  @Sp4rksaflyin @nytimes These Electric Tesla ca...  1772942184456614144   \n",
       "2  @nytimes Is there something wrong with the Chi...  1772931578835939584   \n",
       "3  @nytimes I love my Chinese IPhone. Thank you c...  1772931578835939584   \n",
       "4  @nytimes And we can read all about it on our m...  1772931578835939584   \n",
       "\n",
       "  lang  quoteCount  retweetCount  ...  \\\n",
       "0   en           0             0  ...   \n",
       "1   en           0             0  ...   \n",
       "2   en           0             0  ...   \n",
       "3   en           0             0  ...   \n",
       "4   en           0             0  ...   \n",
       "\n",
       "                                 cleaned_tweet_vader  \\\n",
       "0                             curse musk iis working   \n",
       "1  electric tesla cars start new england cold fri...   \n",
       "2            something wrong chinese communist party   \n",
       "3            love chinese iphone thank comrade apple   \n",
       "4                           read madeinchina devices   \n",
       "\n",
       "                                              tokens     anger   disgust  \\\n",
       "0    ['the', 'curse', 'on', 'musk', 'ii', 'working']  0.007012  0.004977   \n",
       "1  ['these', 'electric', 'tesla', 'car', 'cannot'...  0.036987  0.001647   \n",
       "2  ['is', 'there', 'something', 'wrong', 'with', ...  0.361652  0.008085   \n",
       "3  ['i', 'love', 'my', 'chinese', 'iphone', 'than...  0.004483  0.000653   \n",
       "4  ['and', 'we', 'can', 'read', 'all', 'about', '...  0.004016  0.002191   \n",
       "\n",
       "       fear       joy   neutral   sadness  surprise emotion_label  \n",
       "0  0.007745  0.007550  0.592750  0.312809  0.067157       neutral  \n",
       "1  0.003299  0.211342  0.514728  0.020631  0.211366       neutral  \n",
       "2  0.011581  0.002932  0.066830  0.513652  0.035267       sadness  \n",
       "3  0.001027  0.759493  0.071811  0.012780  0.149753           joy  \n",
       "4  0.002639  0.026681  0.587482  0.037722  0.339270       neutral  \n",
       "\n",
       "[5 rows x 28 columns]"
      ]
     },
     "execution_count": 3,
     "metadata": {},
     "output_type": "execute_result"
    }
   ],
   "source": [
    "data.head()"
   ]
  },
  {
   "cell_type": "code",
   "execution_count": null,
   "id": "LvPP8r3A5Ff1",
   "metadata": {
    "id": "LvPP8r3A5Ff1"
   },
   "outputs": [],
   "source": [
    "data.to_csv('emotion_labeled_data.csv', index=False)"
   ]
  },
  {
   "cell_type": "code",
   "execution_count": null,
   "id": "2c570ef6",
   "metadata": {},
   "outputs": [],
   "source": []
  }
 ],
 "metadata": {
  "accelerator": "GPU",
  "colab": {
   "gpuType": "T4",
   "provenance": []
  },
  "kernelspec": {
   "display_name": "Python 3 (ipykernel)",
   "language": "python",
   "name": "python3"
  },
  "language_info": {
   "codemirror_mode": {
    "name": "ipython",
    "version": 3
   },
   "file_extension": ".py",
   "mimetype": "text/x-python",
   "name": "python",
   "nbconvert_exporter": "python",
   "pygments_lexer": "ipython3",
   "version": "3.9.12"
  }
 },
 "nbformat": 4,
 "nbformat_minor": 5
}
