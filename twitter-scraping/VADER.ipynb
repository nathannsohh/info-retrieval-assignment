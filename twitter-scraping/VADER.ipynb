{
 "cells": [
  {
   "cell_type": "code",
   "execution_count": 1,
   "metadata": {},
   "outputs": [],
   "source": [
    "import pandas as pd\n",
    "import numpy as np\n",
    "import seaborn as sb\n",
    "from matplotlib import pyplot as plt\n",
    "\n",
    "from nltk.tokenize import TweetTokenizer\n",
    "from scipy.special import softmax\n",
    "from sklearn.metrics import classification_report\n",
    "import re\n",
    "from nltk.corpus import stopwords\n",
    "from nltk.tokenize import word_tokenize\n",
    "from nltk.sentiment.vader import SentimentIntensityAnalyzer\n",
    "from sklearn.metrics import classification_report"
   ]
  },
  {
   "cell_type": "code",
   "execution_count": 2,
   "metadata": {},
   "outputs": [],
   "source": [
    "data = pd.read_csv('preprocessed_data.csv')"
   ]
  },
  {
   "cell_type": "code",
   "execution_count": 3,
   "metadata": {},
   "outputs": [
    {
     "name": "stdout",
     "output_type": "stream",
     "text": [
      "<class 'pandas.core.frame.DataFrame'>\n",
      "RangeIndex: 287188 entries, 0 to 287187\n",
      "Data columns (total 20 columns):\n",
      " #   Column               Non-Null Count   Dtype  \n",
      "---  ------               --------------   -----  \n",
      " 0   id                   287187 non-null  float64\n",
      " 1   createdAt            287188 non-null  object \n",
      " 2   fullName             287149 non-null  object \n",
      " 3   userName             287188 non-null  object \n",
      " 4   profileImage         287188 non-null  object \n",
      " 5   fullText             287188 non-null  object \n",
      " 6   replyTo              287188 non-null  int64  \n",
      " 7   lang                 287188 non-null  object \n",
      " 8   quoteCount           287188 non-null  int64  \n",
      " 9   retweetCount         287188 non-null  int64  \n",
      " 10  replyCount           287188 non-null  int64  \n",
      " 11  likeCount            287188 non-null  int64  \n",
      " 12  viewCount            103504 non-null  float64\n",
      " 13  sentimentLabel1      1790 non-null    float64\n",
      " 14  sentimentLabel2      1201 non-null    float64\n",
      " 15  sentimentLabel3      996 non-null     float64\n",
      " 16  sentimentLabelFinal  996 non-null     float64\n",
      " 17  cleaned_tweet        287188 non-null  object \n",
      " 18  cleaned_tweet_vader  285637 non-null  object \n",
      " 19  tokens               287188 non-null  object \n",
      "dtypes: float64(6), int64(5), object(9)\n",
      "memory usage: 43.8+ MB\n"
     ]
    }
   ],
   "source": [
    "data.info()"
   ]
  },
  {
   "cell_type": "markdown",
   "metadata": {},
   "source": [
    "# VADER\n",
    "\n"
   ]
  },
  {
   "cell_type": "code",
   "execution_count": 4,
   "metadata": {},
   "outputs": [
    {
     "name": "stderr",
     "output_type": "stream",
     "text": [
      "[nltk_data] Downloading package vader_lexicon to C:\\Users\\Krithika\n",
      "[nltk_data]     JK\\AppData\\Roaming\\nltk_data...\n",
      "[nltk_data]   Package vader_lexicon is already up-to-date!\n"
     ]
    },
    {
     "data": {
      "text/plain": [
       "True"
      ]
     },
     "execution_count": 4,
     "metadata": {},
     "output_type": "execute_result"
    }
   ],
   "source": [
    "import nltk\n",
    "nltk.download('vader_lexicon')\n"
   ]
  },
  {
   "cell_type": "code",
   "execution_count": 5,
   "metadata": {},
   "outputs": [
    {
     "name": "stdout",
     "output_type": "stream",
     "text": [
      "<class 'pandas.core.frame.DataFrame'>\n",
      "Int64Index: 996 entries, 152428 to 153426\n",
      "Data columns (total 20 columns):\n",
      " #   Column               Non-Null Count  Dtype  \n",
      "---  ------               --------------  -----  \n",
      " 0   id                   996 non-null    float64\n",
      " 1   createdAt            996 non-null    object \n",
      " 2   fullName             996 non-null    object \n",
      " 3   userName             996 non-null    object \n",
      " 4   profileImage         996 non-null    object \n",
      " 5   fullText             996 non-null    object \n",
      " 6   replyTo              996 non-null    int64  \n",
      " 7   lang                 996 non-null    object \n",
      " 8   quoteCount           996 non-null    int64  \n",
      " 9   retweetCount         996 non-null    int64  \n",
      " 10  replyCount           996 non-null    int64  \n",
      " 11  likeCount            996 non-null    int64  \n",
      " 12  viewCount            0 non-null      float64\n",
      " 13  sentimentLabel1      996 non-null    float64\n",
      " 14  sentimentLabel2      996 non-null    float64\n",
      " 15  sentimentLabel3      996 non-null    float64\n",
      " 16  sentimentLabelFinal  996 non-null    float64\n",
      " 17  cleaned_tweet        996 non-null    object \n",
      " 18  cleaned_tweet_vader  987 non-null    object \n",
      " 19  tokens               996 non-null    object \n",
      "dtypes: float64(6), int64(5), object(9)\n",
      "memory usage: 163.4+ KB\n"
     ]
    }
   ],
   "source": [
    "labeled_data = data[data['sentimentLabelFinal'].notnull()]\n",
    "labeled_data.info()"
   ]
  },
  {
   "cell_type": "code",
   "execution_count": 7,
   "metadata": {},
   "outputs": [
    {
     "name": "stdout",
     "output_type": "stream",
     "text": [
      "Classification Report:\n",
      "              precision    recall  f1-score   support\n",
      "\n",
      "         0.0       0.56      0.52      0.54       355\n",
      "         1.0       0.69      0.43      0.53       497\n",
      "         2.0       0.30      0.74      0.43       144\n",
      "\n",
      "    accuracy                           0.51       996\n",
      "   macro avg       0.52      0.57      0.50       996\n",
      "weighted avg       0.59      0.51      0.52       996\n",
      "\n"
     ]
    }
   ],
   "source": [
    "import pandas as pd\n",
    "import re\n",
    "from nltk.corpus import stopwords\n",
    "from nltk.tokenize import word_tokenize\n",
    "from nltk.sentiment.vader import SentimentIntensityAnalyzer\n",
    "from sklearn.metrics import classification_report\n",
    "\n",
    "train_data = data[['fullText', 'cleaned_tweet']]\n",
    "validation_data = labeled_data[['fullText', 'cleaned_tweet', 'sentimentLabelFinal']]\n",
    "\n",
    "# Initialize VADER SentimentIntensityAnalyzer\n",
    "sid = SentimentIntensityAnalyzer()\n",
    "\n",
    "# Function to get sentiment label\n",
    "def get_sentiment_label(score):\n",
    "    if score['compound'] >= 0.05:\n",
    "        return 2  # positive\n",
    "    elif score['compound'] <= -0.05:\n",
    "        return 0  # negative\n",
    "    else:\n",
    "        return 1  # neutral\n",
    "\n",
    "\n",
    "# Predict sentiment for validation data using VADER\n",
    "predicted_sentiments_val = []\n",
    "\n",
    "for text in validation_data['cleaned_tweet']:\n",
    "    vader_score = sid.polarity_scores(text)\n",
    "    predicted_sentiment = get_sentiment_label(vader_score)\n",
    "    predicted_sentiments_val.append(predicted_sentiment)\n",
    "\n",
    "# Save predicted sentiments for validation data to a DataFrame\n",
    "predicted_sentiments_val_df = pd.DataFrame({'text': validation_data['cleaned_tweet'], 'sentiment': validation_data['sentimentLabelFinal'], 'predicted_sentiment': predicted_sentiments_val})\n",
    "\n",
    "# Predict sentiment for training data using VADER\n",
    "predicted_sentiments_train = []\n",
    "\n",
    "for text in train_data['cleaned_tweet']:\n",
    "    vader_score = sid.polarity_scores(text)\n",
    "    predicted_sentiment = get_sentiment_label(vader_score)\n",
    "    predicted_sentiments_train.append(predicted_sentiment)\n",
    "\n",
    "# Save predicted sentiments for training data to a DataFrame\n",
    "predicted_sentiments_train_df = pd.DataFrame({'fullText': train_data['fullText'], 'cleaned_tweet': train_data['cleaned_tweet'], 'predicted_sentiment': predicted_sentiments_train})\n",
    "\n",
    "true_labels_val = validation_data['sentimentLabelFinal']\n",
    "report_val = classification_report(true_labels_val, predicted_sentiments_val)\n",
    "print(\"Classification Report:\")\n",
    "print(report_val)\n",
    "\n",
    "#predicted_sentiments_train_df.to_csv(\"predicted_sentiments_val.csv\", index=False)\n"
   ]
  },
  {
   "cell_type": "code",
   "execution_count": 46,
   "metadata": {},
   "outputs": [
    {
     "name": "stdout",
     "output_type": "stream",
     "text": [
      "<class 'pandas.core.frame.DataFrame'>\n",
      "Int64Index: 1992 entries, 0 to 171005\n",
      "Data columns (total 3 columns):\n",
      " #   Column               Non-Null Count  Dtype  \n",
      "---  ------               --------------  -----  \n",
      " 0   text                 1992 non-null   object \n",
      " 1   sentiment            1992 non-null   float64\n",
      " 2   predicted_sentiment  1992 non-null   int64  \n",
      "dtypes: float64(1), int64(1), object(1)\n",
      "memory usage: 62.2+ KB\n"
     ]
    }
   ],
   "source": [
    "predicted_sentiments_val_df.info()"
   ]
  },
  {
   "cell_type": "code",
   "execution_count": 47,
   "metadata": {},
   "outputs": [
    {
     "data": {
      "text/html": [
       "<div>\n",
       "<style scoped>\n",
       "    .dataframe tbody tr th:only-of-type {\n",
       "        vertical-align: middle;\n",
       "    }\n",
       "\n",
       "    .dataframe tbody tr th {\n",
       "        vertical-align: top;\n",
       "    }\n",
       "\n",
       "    .dataframe thead th {\n",
       "        text-align: right;\n",
       "    }\n",
       "</style>\n",
       "<table border=\"1\" class=\"dataframe\">\n",
       "  <thead>\n",
       "    <tr style=\"text-align: right;\">\n",
       "      <th></th>\n",
       "      <th>fullText</th>\n",
       "      <th>cleaned_tweet</th>\n",
       "      <th>predicted_sentiment</th>\n",
       "    </tr>\n",
       "  </thead>\n",
       "  <tbody>\n",
       "    <tr>\n",
       "      <th>0</th>\n",
       "      <td>@nytimes The curse on Musk iis working!\\r\\n🔥☔🐱🐱🤹💥</td>\n",
       "      <td>the curse on musk iis working :fire::umbrellaw...</td>\n",
       "      <td>0</td>\n",
       "    </tr>\n",
       "    <tr>\n",
       "      <th>1</th>\n",
       "      <td>@elonmusk and @joebiden walk into a Chinese ba...</td>\n",
       "      <td>and walk into a chinese bar elon makes money l...</td>\n",
       "      <td>2</td>\n",
       "    </tr>\n",
       "    <tr>\n",
       "      <th>2</th>\n",
       "      <td>Elon Musk helped create China’s electric vehic...</td>\n",
       "      <td>elon musk helped create chinas electric vehicl...</td>\n",
       "      <td>2</td>\n",
       "    </tr>\n",
       "    <tr>\n",
       "      <th>3</th>\n",
       "      <td>Lies.\\r\\n\\r\\nMusk faced even greater challenge...</td>\n",
       "      <td>lies musk faced even greater challenges from h...</td>\n",
       "      <td>1</td>\n",
       "    </tr>\n",
       "    <tr>\n",
       "      <th>4</th>\n",
       "      <td>@Sp4rksaflyin @nytimes These Electric Tesla ca...</td>\n",
       "      <td>these electric tesla cars cannot start in the ...</td>\n",
       "      <td>2</td>\n",
       "    </tr>\n",
       "  </tbody>\n",
       "</table>\n",
       "</div>"
      ],
      "text/plain": [
       "                                            fullText  \\\n",
       "0  @nytimes The curse on Musk iis working!\\r\\n🔥☔🐱🐱🤹💥   \n",
       "1  @elonmusk and @joebiden walk into a Chinese ba...   \n",
       "2  Elon Musk helped create China’s electric vehic...   \n",
       "3  Lies.\\r\\n\\r\\nMusk faced even greater challenge...   \n",
       "4  @Sp4rksaflyin @nytimes These Electric Tesla ca...   \n",
       "\n",
       "                                       cleaned_tweet  predicted_sentiment  \n",
       "0  the curse on musk iis working :fire::umbrellaw...                    0  \n",
       "1  and walk into a chinese bar elon makes money l...                    2  \n",
       "2  elon musk helped create chinas electric vehicl...                    2  \n",
       "3  lies musk faced even greater challenges from h...                    1  \n",
       "4  these electric tesla cars cannot start in the ...                    2  "
      ]
     },
     "execution_count": 47,
     "metadata": {},
     "output_type": "execute_result"
    }
   ],
   "source": [
    "predicted_sentiments_train_df.head(5)"
   ]
  },
  {
   "cell_type": "code",
   "execution_count": 48,
   "metadata": {},
   "outputs": [
    {
     "data": {
      "text/plain": [
       "2    112238\n",
       "0    105200\n",
       "1     86524\n",
       "Name: predicted_sentiment, dtype: int64"
      ]
     },
     "execution_count": 48,
     "metadata": {},
     "output_type": "execute_result"
    }
   ],
   "source": [
    "predicted_sentiments_train_df['predicted_sentiment'].value_counts()"
   ]
  },
  {
   "cell_type": "code",
   "execution_count": null,
   "metadata": {},
   "outputs": [],
   "source": []
  },
  {
   "cell_type": "code",
   "execution_count": null,
   "metadata": {},
   "outputs": [],
   "source": []
  },
  {
   "cell_type": "code",
   "execution_count": null,
   "metadata": {},
   "outputs": [],
   "source": []
  }
 ],
 "metadata": {
  "kernelspec": {
   "display_name": "Python 3 (ipykernel)",
   "language": "python",
   "name": "python3"
  },
  "language_info": {
   "codemirror_mode": {
    "name": "ipython",
    "version": 3
   },
   "file_extension": ".py",
   "mimetype": "text/x-python",
   "name": "python",
   "nbconvert_exporter": "python",
   "pygments_lexer": "ipython3",
   "version": "3.9.12"
  }
 },
 "nbformat": 4,
 "nbformat_minor": 4
}
